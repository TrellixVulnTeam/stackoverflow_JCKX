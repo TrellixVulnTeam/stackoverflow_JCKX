{
 "cells": [
  {
   "cell_type": "code",
   "execution_count": 1,
   "metadata": {},
   "outputs": [],
   "source": [
    "import pandas as pd\n",
    "import xml.etree.ElementTree as ET"
   ]
  },
  {
   "cell_type": "code",
   "execution_count": 2,
   "metadata": {},
   "outputs": [],
   "source": [
    "def iter_posts(post):\n",
    "    post_attr = post.attrib\n",
    "    for row in post.iterfind('.//row'):\n",
    "        row_dict = post_attr.copy()\n",
    "        row_dict.update(row.attrib)\n",
    "        # doc_dict['data'] = doc.text\n",
    "        yield row_dict"
   ]
  },
  {
   "cell_type": "code",
   "execution_count": 3,
   "metadata": {},
   "outputs": [],
   "source": [
    "old_path = 'data/android.stackexchange.com/'\n",
    "new_p_path = 'data/cleaned/positive/json/'\n",
    "new_n_path = 'data/cleaned/negative/json/'"
   ]
  },
  {
   "cell_type": "code",
   "execution_count": 4,
   "metadata": {},
   "outputs": [],
   "source": [
    "# load the xml\n",
    "posts_tree = ET.parse(old_path + 'Posts.xml').getroot()\n",
    "# print type(posts_tree)\n",
    "# convert into dataframes\n",
    "post_df = pd.DataFrame(list(iter_posts(posts_tree)))"
   ]
  },
  {
   "cell_type": "code",
   "execution_count": 5,
   "metadata": {},
   "outputs": [],
   "source": [
    "# save the dataframe as CSV\n",
    "post_df.to_csv('posts_data.csv', encoding='utf-8')"
   ]
  },
  {
   "cell_type": "code",
   "execution_count": 6,
   "metadata": {},
   "outputs": [
    {
     "data": {
      "text/plain": [
       "'\\nto store the dataframe as json. But not memory efficient\\nJSon takes 90MB for a 86.22MB file. Whereas CSV takes only 65.37MB\\n'"
      ]
     },
     "execution_count": 6,
     "output_type": "execute_result",
     "metadata": {}
    }
   ],
   "source": [
    "\"\"\"\n",
    "to store the dataframe as json. But not memory efficient\n",
    "JSon takes 90MB for a 86.22MB file. Whereas CSV takes only 65.37MB\n",
    "\"\"\"\n",
    "# post_df.reset_index().to_json(orient='index')"
   ]
  },
  {
   "cell_type": "code",
   "execution_count": 7,
   "metadata": {},
   "outputs": [],
   "source": [
    "# remove NaN values in the dataframe. use inplace to replace values in the original dataframe\n",
    "post_df[\"ClosedDate\"].fillna(0, inplace=True)\n",
    "\n",
    "# get all the questions\n",
    "# q_df = post_df.loc[(post_df['PostTypeId'] == '1')]\n",
    "\n",
    "# only get questions which Has a closing date. ie, it is closed at least once.\n",
    "closed_q_df = post_df.loc[(post_df['ClosedDate'] != 0) & (post_df['PostTypeId'] == '1')]\n",
    "# print closed_q_df"
   ]
  },
  {
   "cell_type": "code",
   "execution_count": 8,
   "metadata": {},
   "outputs": [],
   "source": [
    "# load the posthistory xml\n",
    "posts_his_tree = ET.parse(old_path + 'PostHistory.xml').getroot()\n",
    "# print type(posts_tree)\n",
    "# convert into dataframes\n",
    "post_his_df = pd.DataFrame(list(iter_posts(posts_his_tree)))\n",
    "# print post_his_df"
   ]
  },
  {
   "cell_type": "code",
   "execution_count": 10,
   "metadata": {},
   "outputs": [],
   "source": [
    "i = 0\n",
    "j = 0\n",
    "neg_post_history_list = []\n",
    "pos_post_history_list = []\n",
    "for index, row in closed_q_df.iterrows():\n",
    "\n",
    "    data = post_history_df.loc[(post_history_df[\"PostId\"] == row[\"Id\"])]\n",
    "    if '11' in data[\"PostHistoryTypeId\"]:\n",
    "        for x in data.index:\n",
    "            i += 1\n",
    "            lst = data.loc[x].values.tolist()\n",
    "            pos_post_history_list.append(lst)\n",
    "    else:\n",
    "        for x in data.index:\n",
    "            j += 1\n",
    "            lst = data.loc[x].values.tolist()\n",
    "            neg_post_history_list.append(lst)"
   ]
  },
  {
   "cell_type": "code",
   "execution_count": 11,
   "metadata": {},
   "outputs": [
    {
     "name": "stdout",
     "output_type": "stream",
     "text": [
      "Index([u'Comment', u'CreationDate', u'Id', u'PostHistoryTypeId', u'PostId',\n",
      "       u'RevisionGUID', u'Text', u'UserDisplayName', u'UserId'],\n",
      "      dtype='object')\n",
      "                 Comment             CreationDate      Id PostHistoryTypeId  \\\n",
      "0                    NaN  2010-09-13T19:32:59.293      80                 2   \n",
      "1                    NaN  2010-09-13T19:32:59.293      81                 1   \n",
      "2                    NaN  2010-09-13T19:32:59.293      82                 3   \n",
      "3  insert duplicate link  2012-06-22T22:18:05.983   70674                 5   \n",
      "4                      1  2012-06-22T22:18:04.703   70675                10   \n",
      "5            edited tags  2013-04-05T22:20:34.723  137564                 6   \n",
      "6                    NaN  2010-09-13T19:35:33.110      98                 2   \n",
      "7                    NaN  2010-09-13T19:35:33.110      99                 1   \n",
      "8                    NaN  2010-09-13T19:35:33.110     100                 3   \n",
      "9                      1  2010-11-06T20:49:57.393    5332                10   \n",
      "\n",
      "  PostId                          RevisionGUID  \\\n",
      "0     40  121bee57-2334-4cc1-b34a-cdc5f940febf   \n",
      "1     40  121bee57-2334-4cc1-b34a-cdc5f940febf   \n",
      "2     40  121bee57-2334-4cc1-b34a-cdc5f940febf   \n",
      "3     40  4d743c3b-3c7f-4291-b64a-15ecf77e85e8   \n",
      "4     40  14875df9-ff2a-4801-93a1-b52b6bf05ef4   \n",
      "5     40  badbacba-d962-4580-b3fc-f5f5c15c5ebb   \n",
      "6     47  74d9191d-de4a-4ff7-89dd-ea1205258748   \n",
      "7     47  74d9191d-de4a-4ff7-89dd-ea1205258748   \n",
      "8     47  74d9191d-de4a-4ff7-89dd-ea1205258748   \n",
      "9     47  834a12ee-0376-4fd5-9b76-c59c3ba98066   \n",
      "\n",
      "                                                Text UserDisplayName UserId  \n",
      "0  I have found many custom ROMs for download. Bu...             NaN     38  \n",
      "1           Where to find an original Android image?             NaN     38  \n",
      "2                  <rooting><nexus-one><custom-roms>             NaN     38  \n",
      "3  > **Possible Duplicate:**  \\n> [Where can I fi...             NaN     -1  \n",
      "4  {\"OriginalQuestionIds\":[17152],\"Voters\":[{\"Id\"...             NaN   1465  \n",
      "5                           <custom-roms><nexus-one>             NaN  16575  \n",
      "6  I've used MobileDefense, but I want to make su...             NaN     58  \n",
      "7         What Lost Phone finder do you use and why?             NaN     58  \n",
      "8                               <applications><lost>             NaN     58  \n",
      "9  {\"OriginalQuestionIds\":[2131],\"Voters\":[{\"Id\":...             NaN    267  \n"
     ]
    }
   ],
   "source": [
    "posi_hist_df = pd.DataFrame(pos_post_history_list, index=[x for x in xrange(i)], columns=post_history_df.columns)\n",
    "neg_hist_df = pd.DataFrame(neg_post_history_list, index=[x for x in xrange(j)], columns=post_history_df.columns)\n",
    "print posi_hist_df[:10]\n",
    "print neg_hist_df[:10]"
   ]
  },
  {
   "cell_type": "code",
   "execution_count": null,
   "metadata": {},
   "outputs": [],
   "source": [
    ""
   ]
  }
 ],
 "metadata": {
  "kernelspec": {
   "display_name": "Python 2",
   "language": "python",
   "name": "python2"
  },
  "language_info": {
   "codemirror_mode": {
    "name": "ipython",
    "version": 2.0
   },
   "file_extension": ".py",
   "mimetype": "text/x-python",
   "name": "python",
   "nbconvert_exporter": "python",
   "pygments_lexer": "ipython2",
   "version": "2.7.11"
  }
 },
 "nbformat": 4,
 "nbformat_minor": 0
}